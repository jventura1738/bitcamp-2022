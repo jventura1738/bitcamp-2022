{
 "cells": [
  {
   "cell_type": "markdown",
   "id": "afda5e66-e408-4b5e-844a-8fbccca43fed",
   "metadata": {},
   "source": [
    "<div class=\"alert alert-info\">\n",
    "    <h1><strong>BitCamp Hackathon:</strong> Quantum Track </h1>\n",
    "    <h2><strong> Challenge 3 -</strong> VQE for Finance</h2>\n",
    "</div>"
   ]
  },
  {
   "cell_type": "code",
   "execution_count": 1,
   "id": "ab788979-2856-4a20-907c-0af8ed136f31",
   "metadata": {},
   "outputs": [
    {
     "name": "stderr",
     "output_type": "stream",
     "text": [
      "<frozen importlib._bootstrap>:219: RuntimeWarning: scipy._lib.messagestream.MessageStream size changed, may indicate binary incompatibility. Expected 56 from C header, got 64 from PyObject\n"
     ]
    }
   ],
   "source": [
    "#Imports!\n",
    "\n",
    "from qiskit.algorithms import VQE, QAOA, NumPyMinimumEigensolver\n",
    "from qiskit.algorithms.optimizers import COBYLA, L_BFGS_B, SLSQP, SPSA\n",
    "from qiskit_optimization.algorithms import MinimumEigenOptimizer\n",
    "from qiskit.circuit.library import TwoLocal, EfficientSU2\n",
    "from qiskit import Aer\n",
    "# from qiskit.utils import \n",
    "# from qiskit_optimization.converters import QuadraticProgramToQubo\n",
    "from qiskit_finance.applications.optimization import PortfolioOptimization\n",
    "# from qiskit_finance import QiskitFinanceError\n",
    "from qiskit_finance.data_providers import WikipediaDataProvider\n",
    "from qiskit.utils import algorithm_globals, QuantumInstance\n",
    "import numpy as np\n",
    "import datetime\n",
    "import matplotlib.pyplot as plt\n",
    "import seaborn as sns\n",
    "sns.set_style(\"whitegrid\")\n",
    "%matplotlib widget"
   ]
  },
  {
   "cell_type": "markdown",
   "id": "f87615b9-0694-4b00-81fc-1a55b62caae5",
   "metadata": {
    "tags": []
   },
   "source": [
    "<h1 style=\"text-align: center; color: darkblue\"> Motivating Portfolio Optimization</h1>\n",
    "\n",
    "---\n",
    "\n",
    "**What does it mean to optimize a portfolio?**\n",
    "\n",
    "The goal of a financial asset manager is two do two things:\n",
    "   1. Increase Value\n",
    "   2. Minimize Risk\n",
    "\n",
    "In this excercise we are going to use real stock data from 2017 and out of a selection of 5 stocks decide which two would have been the best to select for our portfolio.\n",
    "\n",
    "<div class=\"alert alert-info\"><b><i>N.B.</i></b> \n",
    "Note that the ideal portfolio would have a steadily increasing straight line. You can think of this as increasing value without ever suffering a decrease.\n",
    "</div>"
   ]
  },
  {
   "cell_type": "markdown",
   "id": "a956ea22-4c0d-486e-8309-fc5ff1b90007",
   "metadata": {},
   "source": [
    "## Using real financial data\n",
    "\n",
    "While the access to real-time data usually requires a payment, it is possible to access historical (adjusted) closing prices via Wikipedia and Quandl free of charge, following registration at: https://www.quandl.com/?modal=register."
   ]
  },
  {
   "cell_type": "code",
   "execution_count": 2,
   "id": "24370f1e-78dc-4c24-894a-61d1de958155",
   "metadata": {},
   "outputs": [],
   "source": [
    "# Helper functions - these functions will help us solve the portfolio optimization problem\n",
    "# Don't worry about the details of these functions for now - focus on where they are used in the code\n",
    "\n",
    "# This function imports stock prices using Quandl and Wikipedia. You can edit the start and end datetimes to consider stock prices over a different time period!\n",
    "# Data is only availble until April 2018, so use time periods earlier than that.\n",
    "def import_stock_prices(stocks):\n",
    "    quandl_token = \"HRXZqqxBka_9huabBgoW\" \n",
    "    wiki = WikipediaDataProvider(\n",
    "                        token = quandl_token,\n",
    "                        tickers = stocks,\n",
    "                        start = datetime.datetime(2016,1,1),\n",
    "                        end = datetime.datetime(2017,1,1))\n",
    "    wiki.run()\n",
    "    return wiki"
   ]
  },
  {
   "cell_type": "markdown",
   "id": "c1ed3376-3691-4e64-b7e8-d312777fc2ca",
   "metadata": {},
   "source": [
    "### Using this function, Let's import some stock data!\n",
    "We will take $n = 5$ assets for this example. Let's take a look at their stock prices over a period of 1 year in 2017. Can you guess which stocks are represented below?"
   ]
  },
  {
   "cell_type": "code",
   "execution_count": 3,
   "id": "2e4241c7-1a93-4700-954a-4ec277c0a277",
   "metadata": {},
   "outputs": [
    {
     "data": {
      "text/plain": [
       "<qiskit_finance.data_providers.wikipedia_data_provider.WikipediaDataProvider at 0x7fdc382fb6d0>"
      ]
     },
     "execution_count": 3,
     "metadata": {},
     "output_type": "execute_result"
    }
   ],
   "source": [
    "stocks = [\"AAPL\", \"NFLX\", \"AMZN\", \"IBM\", \"GOOG\"] # NASDAQ tickers. If you want to consider more stocks, look up their tickers and add them to the list!\n",
    "# Other stock tickers you can add include F, NVDA, GME, etc. \n",
    "stock_prices = import_stock_prices(stocks)  # Using one of the helper functions defined above to import stock prices\n",
    "stock_prices"
   ]
  },
  {
   "cell_type": "markdown",
   "id": "6133be6e-f8a3-4cd8-a634-578b58d20108",
   "metadata": {
    "tags": []
   },
   "source": [
    "### Looking at the data\n",
    "When working with new data, it's always a good idea to try and view it first - let's look at the __*raw*__ data exactly as it comes in: we've written a function that does this for you:"
   ]
  },
  {
   "cell_type": "code",
   "execution_count": 4,
   "id": "022506fa-d19b-482e-b7a6-f0ea392b4a51",
   "metadata": {},
   "outputs": [],
   "source": [
    "# This function uses matplotlib to plot normalized stock prices\n",
    "def plot_stock_prices(stock_prices, form=\"norm\"):\n",
    "    fig, ax = plt.subplots(figsize=(8,6))\n",
    "    if stock_prices._data:\n",
    "        for (cnt, s) in enumerate(stocks):\n",
    "            start = stock_prices._data[cnt][0]\n",
    "            eq = stock_prices._data[cnt] / start\n",
    "            min_ = np.min(stock_prices._data[cnt])\n",
    "            max_ = np.max(stock_prices._data[cnt])\n",
    "            norm = (stock_prices._data[cnt] - min_)/(max_- min_)\n",
    "            if form == \"norm\": ax.plot(norm, label=s)\n",
    "            elif form == \"eq\": ax.plot(eq, label=s)\n",
    "            elif form == \"raw\": ax.plot(stock_prices._data[cnt], label=s)\n",
    "            else: raise ValueError(\"Invalid 'form' value\")\n",
    "        ax.legend()\n",
    "        key = {\"norm\":\"Normalised\", \"raw\":\"Raw\", \"eq\":\"Equalized\"}\n",
    "        ax.set_title(f\"{key[form]} Yearly Evolution of Stock Prices\")\n",
    "        plt.xticks(rotation=90)\n",
    "        # plt.tight_layout()\n",
    "        plt.show()\n",
    "    else:\n",
    "        print('No wiki data loaded.')"
   ]
  },
  {
   "cell_type": "code",
   "execution_count": 5,
   "id": "f86548a9-5d0c-4099-9626-e91afaaca2b3",
   "metadata": {},
   "outputs": [
    {
     "data": {
      "application/vnd.jupyter.widget-view+json": {
       "model_id": "ad403e2edd5e4e7e82a04f4afcfacfd8",
       "version_major": 2,
       "version_minor": 0
      },
      "text/plain": [
       "Canvas(toolbar=Toolbar(toolitems=[('Home', 'Reset original view', 'home', 'home'), ('Back', 'Back to previous …"
      ]
     },
     "metadata": {},
     "output_type": "display_data"
    }
   ],
   "source": [
    "plot_stock_prices(stock_prices, form=\"raw\")"
   ]
  },
  {
   "cell_type": "markdown",
   "id": "eaf0285a-7845-4f0f-899d-18fc9b421b0b",
   "metadata": {},
   "source": [
    "### Initial observations on the raw data\n",
    "It's important to notice that a share of `AMZN` and `GOOG` costs a lot more than `AAPL`, `IBM`, or `GOOG`. This graph makes it look like `AMZN` and `GOOG` increased by a lot more, but thats only the *dollar amount* what we really care about is the amount they increased *compared* to their starting price.\n",
    "\n",
    "Therefore, this raw view of the data is relatively unhelpful.\n",
    "\n",
    "### Overall visualising financial data is tricky\n",
    "\n",
    "Instead let's equalize their starting points, that way we can imagine that if we invested \\$1 in January we can see how much that single dollar would be worth at the end of the year, regardless of the initial share price."
   ]
  },
  {
   "cell_type": "code",
   "execution_count": 6,
   "id": "1b5cad1c-2c57-4e7a-9204-e3e5c8b2aa83",
   "metadata": {},
   "outputs": [
    {
     "data": {
      "application/vnd.jupyter.widget-view+json": {
       "model_id": "81f1d6545a6241f893f8ee23c1d1f23c",
       "version_major": 2,
       "version_minor": 0
      },
      "text/plain": [
       "Canvas(toolbar=Toolbar(toolitems=[('Home', 'Reset original view', 'home', 'home'), ('Back', 'Back to previous …"
      ]
     },
     "metadata": {},
     "output_type": "display_data"
    }
   ],
   "source": [
    "# form=\"eq\" tells our plotting function that we want the starting values to be equalized at the start\n",
    "plot_stock_prices(stock_prices, form=\"eq\")"
   ]
  },
  {
   "cell_type": "markdown",
   "id": "ac174e58-109b-46af-bdf9-ffbf3ad901e4",
   "metadata": {},
   "source": [
    "## The Intuitive Answer\n",
    "Looking at this graph we can see that if we had invested $\\$1$ into `IBM` at the start of the year we would end the year with around $\\$1.25$. That's an enourmous $25%$ increase! \n",
    "\n",
    "However, at several points during the year the stock decreases in value. We can intuitively see that by combining both the `AMZN` and `IBM` stocks we could \"smooth-out\" the graph and reduce our risk so that we get closer to that idealized steadily increasing flat line. \n",
    "\n",
    "This is what is known as portfolio optimization. We can computationally calculate which investments will have the highest return while minimizsing the risk."
   ]
  },
  {
   "cell_type": "markdown",
   "id": "70755fb2-7e1c-4931-9329-ab5cad1341e1",
   "metadata": {
    "tags": []
   },
   "source": [
    "<h1 style=\"text-align: center; color: darkblue\"> Calculating the Optimal Portfolio</h1>\n",
    "\n",
    "---\n",
    "\n",
    "Here, we show how to solve a **mean-variance portfolio optimization problem** for $n$ assets.\n",
    "\n",
    "Portfolios can be analyzed in a mean-variance framework. We can quantify how risky a selection of investments are by looking at the return variance, and calculate the lowest possible return variance consistent with that investor's chosen level of expected return (called a minimum-variance portfolio).\n",
    "\n",
    "Under mean-variance analysis, it can be shown that every minimum-variance portfolio given a particular expected return (that is, every efficient portfolio) can be formed as a combination of any two efficient portfolios. If the investor's optimal portfolio has an expected return that is between the expected returns on two efficient benchmark portfolios, then that investor's portfolio can be characterized as consisting of positive quantities of the two benchmark portfolios."
   ]
  },
  {
   "cell_type": "markdown",
   "id": "699c61a8-f576-472a-9c7e-e078674adca2",
   "metadata": {
    "tags": []
   },
   "source": [
    "## Portfolio optimization problem\n",
    "\n",
    "The mean-variance portfolio optimization problem for $n$ assets is defined as:\n",
    "\n",
    "$$\\min\\limits_{x\\in\\{0,1\\}^n}qx^T\\Sigma x-\\mu^Tx$$\n",
    "\n",
    "$$\\texttt{subject to: }1^Tx=B$$\n",
    "\n",
    "where:\n",
    "\n",
    "$x\\in\\{0,1\\}^n$ denotes the vector of binary decision variables, which indicate which assets to pick ($x[i]=1$) and which not to pick ($x[i]=0$),\n",
    "\n",
    "$\\mu\\in\\mathbb{R}^n$ defines the expected returns for the assets,\n",
    "\n",
    "$\\Sigma\\in\\mathbb{R}^{n\\times n}$ specifies the covariances between the assets,\n",
    "\n",
    "$q>0$ controls the risk appetite of the decision maker,\n",
    "\n",
    "$B$ denotes the budget, i.e. the number of assets to be selected out of $n$."
   ]
  },
  {
   "cell_type": "markdown",
   "id": "29bf37cf-dbb0-49b6-94e1-b3241e165766",
   "metadata": {},
   "source": [
    "## Let's form this into a solvable problem!\n",
    "We are going to use `qiskits` pre-made `PortfolioOptimization` class. What it does is turn our stock price data into a solvable **quadratic program** which we will call `qp`."
   ]
  },
  {
   "cell_type": "code",
   "execution_count": 7,
   "id": "af59f06a-535b-440d-81bc-6ddf1d21f38f",
   "metadata": {},
   "outputs": [],
   "source": [
    "#num of assets (length of our NASDAQ issues array)\n",
    "num_assets = len(stocks)\n",
    "\n",
    "# set budget - how many stocks do you want to buy?\n",
    "budget = 2\n",
    "\n",
    "# Defining the portfolio optimization problem\n",
    "portfolio = PortfolioOptimization(expected_returns=stock_prices.get_period_return_mean_vector(),\n",
    "                                  covariances=stock_prices.get_period_return_covariance_matrix(),\n",
    "                                  risk_factor=0.2, budget=budget)\n",
    "\n",
    "# This creates a quadratic program, which is the form in which the problem can be directly\n",
    "# passed to Qiskit's solvers\n",
    "qp = portfolio.to_quadratic_program()"
   ]
  },
  {
   "cell_type": "markdown",
   "id": "521fe854-5a8f-4126-aaa0-811fa88560d6",
   "metadata": {},
   "source": [
    "Now our `qp` variable contains all the information we need to make this problem solvable"
   ]
  },
  {
   "cell_type": "markdown",
   "id": "c6b2f1b4-89f8-4109-9096-5cb854061157",
   "metadata": {
    "tags": []
   },
   "source": [
    "# Let's solve it together using a Classical Solver\n",
    "\n",
    "### Classical Solver: NumPyMinimumEigensolver \n",
    "\n",
    "Let's solve the problem using the same classical solver we used above for the knapsack problem. \n",
    "\n",
    "**Reading the result of the solver**: The solver will return a list of 0s and 1s as the optimal knapsack. 0 means that the corresponding stock should not be picked for our portfolio, and 1 means that it should be picked. Therefore, an optimal solution of the form \\[0 1 1 0 0\\] means that we should pick stocks 2 and 3.\n",
    "\n",
    "This is hard to read so we've two functions for you called `display_values` which prints out the selected stocks and `plot_portfolio_against_market` which draws a graph of the chosen stocks, their combined portfolio, and the rest of the stocks in the market"
   ]
  },
  {
   "cell_type": "code",
   "execution_count": 8,
   "id": "54fc2c1c-5e78-4750-82cf-edec9e2dabbe",
   "metadata": {},
   "outputs": [],
   "source": [
    "# This Function displays teh result of a VQE or Classical EigenSolver\n",
    "def display_values(vqe_result, stocks):\n",
    "    lines = []\n",
    "    for result in vqe_result.samples[:5]:\n",
    "            qubits, value, probability = result.x, result.fval, result.probability\n",
    "            q_str = str(qubits.astype(int)).ljust(16)\n",
    "            arr = np.array(qubits)\n",
    "            opt = [str(stock[0])+' ' for stock in np.take(stocks, np.argwhere(arr))]\n",
    "            opt_str = \"\".join(opt).ljust(16)\n",
    "            lines.append((opt_str, f'{q_str} {opt_str} {round(value,4)} \\t {round(probability,4)}'))\n",
    "\n",
    "    print(f' Optimal Stock Combination: {lines[0][0]}')\n",
    "    print('\\n------------------------ Top Results ------------------------')\n",
    "    print('qubits \\t\\t selection \\t value \\t\\t probability')\n",
    "    print('--------------------------------------------------------------')\n",
    "    [print(p[1]) for p in lines]\n",
    "    print('--------------------------------------------------------------')\n",
    "\n",
    "# This function draws the value of the portfolio against other the stocks\n",
    "def plot_portfolio_against_market(result, stock_prices):\n",
    "    portfolio_sel = np.argwhere(result.samples[0].x).reshape(-1)\n",
    "    fig, ax = plt.subplots(figsize=(8,6))\n",
    "    if stock_prices._data:\n",
    "        portfolio_sum = []\n",
    "        for (cnt, s) in enumerate(stocks):\n",
    "            start = stock_prices._data[cnt][0]\n",
    "            eq = stock_prices._data[cnt] / start\n",
    "            if cnt in portfolio_sel:\n",
    "                portfolio_sum.append(eq)\n",
    "                ax.plot(eq, label=f\"{s} (Selected)\", linestyle=\"--\", alpha=0.5)\n",
    "            else:\n",
    "                ax.plot(eq, label=s, alpha=0.15)\n",
    "        sab = sum(portfolio_sum)\n",
    "        # This has no purpose besides shifting the color because I don't like brown\n",
    "        next(ax._get_lines.prop_cycler)   \n",
    "        ax.plot(sab/2, label=\"Portfolio Value\")\n",
    "        ax.set_title(\"Portfolio Performance\") \n",
    "        ax.legend()\n",
    "        plt.xticks(rotation=90)\n",
    "        # plt.tight_layout()\n",
    "        plt.show()\n",
    "\n",
    "    else:\n",
    "        print('No wiki data loaded.')"
   ]
  },
  {
   "cell_type": "code",
   "execution_count": 9,
   "id": "51c7ce1b-5bcf-48f1-a583-521b1f16ae1a",
   "metadata": {},
   "outputs": [],
   "source": [
    "exact_mes = NumPyMinimumEigensolver() # Specifying the classical solver we want to use - NumPyMinimumEigensolver\n",
    "exact_eigensolver = MinimumEigenOptimizer(exact_mes) \n",
    "result_classical = exact_eigensolver.solve(qp) # Solving the problem using the classical solver"
   ]
  },
  {
   "cell_type": "markdown",
   "id": "64b0bc1f-7cdf-41cb-a44c-5cdd46afc065",
   "metadata": {},
   "source": [
    "### Display the results\n",
    "This shows the calculated optimal selection as well as the performance of the portfolio compared to the rest of the stocks in our market"
   ]
  },
  {
   "cell_type": "code",
   "execution_count": 10,
   "id": "8d4e22cd-a896-48ff-8128-ac0ebda50a2e",
   "metadata": {},
   "outputs": [
    {
     "name": "stdout",
     "output_type": "stream",
     "text": [
      " Optimal Stock Combination: AMZN IBM        \n",
      "\n",
      "------------------------ Top Results ------------------------\n",
      "qubits \t\t selection \t value \t\t probability\n",
      "--------------------------------------------------------------\n",
      "[0 0 1 1 0]      AMZN IBM         -0.0017 \t 1.0\n",
      "--------------------------------------------------------------\n"
     ]
    },
    {
     "data": {
      "application/vnd.jupyter.widget-view+json": {
       "model_id": "31be0984762c4e248c9e39990bae9fb6",
       "version_major": 2,
       "version_minor": 0
      },
      "text/plain": [
       "Canvas(toolbar=Toolbar(toolitems=[('Home', 'Reset original view', 'home', 'home'), ('Back', 'Back to previous …"
      ]
     },
     "metadata": {},
     "output_type": "display_data"
    }
   ],
   "source": [
    "display_values(result_classical, stocks)\n",
    "plot_portfolio_against_market(result_classical, stock_prices)"
   ]
  },
  {
   "cell_type": "markdown",
   "id": "fe2df8b0-f3d5-4cef-9ef1-3c0abc2a1a3e",
   "metadata": {
    "tags": []
   },
   "source": [
    "# Now it's your turn!\n",
    "\n",
    "## Quantum Solver: VQE\n",
    "\n",
    "Now, let's solve the same problem using VQE. Using the code we used to solve the Knapsack problem in the workshop, make a VQE solver using a `EfficientSU2` tunable circuit and the `SPSA` optimiser.\n",
    "\n",
    "Some things to note:\n",
    "`num_qubits` should be equal to `num_assets`"
   ]
  },
  {
   "cell_type": "code",
   "execution_count": 25,
   "id": "abf8e96d-7174-4d44-8243-3453cb37a6a6",
   "metadata": {},
   "outputs": [
    {
     "name": "stdout",
     "output_type": "stream",
     "text": [
      "number of qubits = 5\n"
     ]
    }
   ],
   "source": [
    "# Define a VQE solver using the code from the Knapsack problem workshop\n",
    "# Use the EfficientSU2 tunable circuit, and the SPSA optimizer\n",
    "# The number of qubits should be equal to the number of total stocks you want to consider\n",
    "from qiskit_optimization.converters import QuadraticProgramToQubo\n",
    "\n",
    "qp = portfolio\n",
    "operator, offset = QuadraticProgramToQubo().convert(qp.to_quadratic_program()).to_ising()\n",
    "print(\"number of qubits =\",operator.num_qubits)"
   ]
  },
  {
   "cell_type": "code",
   "execution_count": 26,
   "id": "39dd7237-495d-4290-86e5-a3aa6ff4ad74",
   "metadata": {},
   "outputs": [],
   "source": [
    "tunable_circuit = EfficientSU2(num_qubits = operator.num_qubits, reps = 3, entanglement = 'full',insert_barriers=True ) \n",
    "\n",
    "optimizer = SPSA(maxiter=15) # Classical optimizer\n",
    "\n",
    "method = VQE(ansatz = tunable_circuit, optimizer = optimizer, quantum_instance = Aer.get_backend('qasm_simulator')) # Using the VQE algorithm "
   ]
  },
  {
   "cell_type": "code",
   "execution_count": 31,
   "id": "f6d98a58-956f-401c-a867-90353b2e7306",
   "metadata": {},
   "outputs": [
    {
     "name": "stdout",
     "output_type": "stream",
     "text": [
      "joe\n"
     ]
    }
   ],
   "source": [
    "# Block 5 - Visualize your circuit by drawing it\n",
    "# tunable_circuit.decompose().draw(output=\"mpl\")\n",
    "print('joe')"
   ]
  },
  {
   "cell_type": "markdown",
   "id": "3b8b5291-6a29-45ea-9d8f-03f4227b77ef",
   "metadata": {},
   "source": [
    "# Test your Results! \n",
    "Use this block to test your VQE results, does it look the same as the Classical optimizer?"
   ]
  },
  {
   "cell_type": "code",
   "execution_count": 29,
   "id": "182cef34-246a-42ef-be31-08018b06fed7",
   "metadata": {},
   "outputs": [
    {
     "name": "stdout",
     "output_type": "stream",
     "text": [
      "result:\n",
      " optimal function value: -0.0017201137159862966\n",
      "optimal value: [0. 0. 1. 1. 0.]\n",
      "status: SUCCESS\n",
      "\n",
      "solution:\n",
      " [2, 3]\n"
     ]
    }
   ],
   "source": [
    "calc = MinimumEigenOptimizer(method)\n",
    "result_quantum = calc.solve(qp.to_quadratic_program())\n",
    "print('result:\\n', result_quantum)\n",
    "print('\\nsolution:\\n', qp.interpret(result_quantum))"
   ]
  },
  {
   "cell_type": "code",
   "execution_count": 30,
   "id": "0ac2ed1f-5984-4758-92e5-67cc9114e16c",
   "metadata": {},
   "outputs": [
    {
     "name": "stdout",
     "output_type": "stream",
     "text": [
      " Optimal Stock Combination: AMZN IBM        \n",
      "\n",
      "------------------------ Top Results ------------------------\n",
      "qubits \t\t selection \t value \t\t probability\n",
      "--------------------------------------------------------------\n",
      "[0 0 1 1 0]      AMZN IBM         -0.0017 \t 0.0596\n",
      "[0 1 0 1 0]      NFLX IBM         -0.0017 \t 0.001\n",
      "[1 0 0 1 0]      AAPL IBM         -0.0015 \t 0.1621\n",
      "[0 1 1 0 0]      NFLX AMZN        -0.0014 \t 0.1699\n",
      "[1 0 1 0 0]      AAPL AMZN        -0.0012 \t 0.001\n",
      "--------------------------------------------------------------\n"
     ]
    },
    {
     "data": {
      "application/vnd.jupyter.widget-view+json": {
       "model_id": "c075452859bf43a1aaee1ef104d7aef0",
       "version_major": 2,
       "version_minor": 0
      },
      "text/plain": [
       "Canvas(toolbar=Toolbar(toolitems=[('Home', 'Reset original view', 'home', 'home'), ('Back', 'Back to previous …"
      ]
     },
     "metadata": {},
     "output_type": "display_data"
    }
   ],
   "source": [
    "# Display the results!\n",
    "display_values(result_quantum, stocks)\n",
    "plot_portfolio_against_market(result_quantum, stock_prices)"
   ]
  },
  {
   "cell_type": "markdown",
   "id": "0352a106-2886-4c13-a36a-2697f364e34b",
   "metadata": {},
   "source": [
    "### © 2022 The Coding School\n",
    "\n",
    "**All rights reserved**\n",
    "\n",
    "*Use of this activity is for personal use only. Copying, reproducing, distributing, posting or sharing this activity in any manner with any third party are prohibited under the terms of this registration. All rights not specifically licensed under the registration are reserved.*"
   ]
  }
 ],
 "metadata": {
  "kernelspec": {
   "display_name": "Qiskit v0.35.0 (ipykernel)",
   "language": "python",
   "name": "python3"
  },
  "language_info": {
   "codemirror_mode": {
    "name": "ipython",
    "version": 3
   },
   "file_extension": ".py",
   "mimetype": "text/x-python",
   "name": "python",
   "nbconvert_exporter": "python",
   "pygments_lexer": "ipython3",
   "version": "3.8.13"
  },
  "widgets": {
   "application/vnd.jupyter.widget-state+json": {
    "state": {},
    "version_major": 2,
    "version_minor": 0
   }
  }
 },
 "nbformat": 4,
 "nbformat_minor": 5
}
